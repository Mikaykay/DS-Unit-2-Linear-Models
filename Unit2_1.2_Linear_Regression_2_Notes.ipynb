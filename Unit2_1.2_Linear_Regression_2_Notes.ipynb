{
  "nbformat": 4,
  "nbformat_minor": 0,
  "metadata": {
    "kernelspec": {
      "display_name": "Python 3",
      "language": "python",
      "name": "python3"
    },
    "language_info": {
      "codemirror_mode": {
        "name": "ipython",
        "version": 3
      },
      "file_extension": ".py",
      "mimetype": "text/x-python",
      "name": "python",
      "nbconvert_exporter": "python",
      "pygments_lexer": "ipython3",
      "version": "3.7.3"
    },
    "colab": {
      "name": "DS29_GP_Unit2_Sprint1_Module2_Mikayla",
      "provenance": [],
      "collapsed_sections": [],
      "include_colab_link": true
    }
  },
  "cells": [
    {
      "cell_type": "markdown",
      "metadata": {
        "id": "view-in-github",
        "colab_type": "text"
      },
      "source": [
        "<a href=\"https://colab.research.google.com/github/Mikaykay/DS-Unit-2-Linear-Models/blob/master/Unit2_1.2_Linear_Regression_2_Notes.ipynb\" target=\"_parent\"><img src=\"https://colab.research.google.com/assets/colab-badge.svg\" alt=\"Open In Colab\"/></a>"
      ]
    },
    {
      "cell_type": "markdown",
      "metadata": {
        "id": "60K3RVKDUpWj"
      },
      "source": [
        "Lambda School Data Science\n",
        "\n",
        "*Unit 2, Sprint 1, Module 2*\n",
        "\n",
        "---"
      ]
    },
    {
      "cell_type": "markdown",
      "metadata": {
        "id": "rw9W_D8-UpWo"
      },
      "source": [
        "# Regression 2\n",
        "- Do train/test split\n",
        "- Use scikit-learn to fit a multiple regression\n",
        "- Understand how ordinary least squares regression minimizes the sum of squared errors\n",
        "- Define overfitting/underfitting and the bias/variance tradeoff"
      ]
    },
    {
      "cell_type": "markdown",
      "metadata": {
        "id": "qFbCUaSmUpWo"
      },
      "source": [
        "### Setup\n",
        "\n",
        "Run the code cell below. You can work locally (follow the [local setup instructions](https://lambdaschool.github.io/ds/unit2/local/)) or on Colab.\n",
        "\n",
        "Libraries:\n",
        "- matplotlib\n",
        "- numpy\n",
        "- pandas\n",
        "- plotly\n",
        "- scikit-learn"
      ]
    },
    {
      "cell_type": "code",
      "metadata": {
        "id": "5OYhyccRknvx"
      },
      "source": [
        "# Importing libraries\n",
        "import pandas as pd\n",
        "import numpy as np\n",
        "import sys\n",
        "import warnings\n",
        "from sklearn.metrics import mean_absolute_error\n",
        "import matplotlib.pyplot as plt"
      ],
      "execution_count": 1,
      "outputs": []
    },
    {
      "cell_type": "code",
      "metadata": {
        "id": "hzd1QWN5UpWp"
      },
      "source": [
        "\n",
        "# If you're on Colab:\n",
        "if 'google.colab' in sys.modules:\n",
        "    DATA_PATH = 'https://raw.githubusercontent.com/LambdaSchool/DS-Unit-2-Applied-Modeling/master/data/'\n",
        "\n",
        "# If you're working locally:\n",
        "else:\n",
        "    DATA_PATH = '../data/'\n",
        "    \n",
        "# Ignore this Numpy warning when using Plotly Express:\n",
        "# FutureWarning: Method .ptp is deprecated and will be removed in a future version. Use numpy.ptp instead.\n",
        "warnings.filterwarnings(action='ignore', category=FutureWarning, module='numpy')"
      ],
      "execution_count": 2,
      "outputs": []
    },
    {
      "cell_type": "code",
      "metadata": {
        "id": "JXMFygaYBhQd",
        "colab": {
          "base_uri": "https://localhost:8080/",
          "height": 235
        },
        "outputId": "4869ff1f-ab95-4bb8-b705-f7af85a88d85"
      },
      "source": [
        "#Clean up the data\n",
        "\n",
        "def wrangle(filepath):\n",
        "  columns = ['year','incumbent','challenger','income','fatalities','incumbent_vote_share']\n",
        "  df = pd.read_csv(filepath,names = columns,header = 0,index_col='year',) #skiprows = 1\n",
        "  df.drop(columns = ['incumbent','challenger'],inplace=True)\n",
        "  return df\n",
        "\n",
        "df = wrangle(DATA_PATH + 'elections/bread_peace_voting.csv')\n",
        "\n",
        "df.head()"
      ],
      "execution_count": 3,
      "outputs": [
        {
          "output_type": "execute_result",
          "data": {
            "text/html": [
              "<div>\n",
              "<style scoped>\n",
              "    .dataframe tbody tr th:only-of-type {\n",
              "        vertical-align: middle;\n",
              "    }\n",
              "\n",
              "    .dataframe tbody tr th {\n",
              "        vertical-align: top;\n",
              "    }\n",
              "\n",
              "    .dataframe thead th {\n",
              "        text-align: right;\n",
              "    }\n",
              "</style>\n",
              "<table border=\"1\" class=\"dataframe\">\n",
              "  <thead>\n",
              "    <tr style=\"text-align: right;\">\n",
              "      <th></th>\n",
              "      <th>income</th>\n",
              "      <th>fatalities</th>\n",
              "      <th>incumbent_vote_share</th>\n",
              "    </tr>\n",
              "    <tr>\n",
              "      <th>year</th>\n",
              "      <th></th>\n",
              "      <th></th>\n",
              "      <th></th>\n",
              "    </tr>\n",
              "  </thead>\n",
              "  <tbody>\n",
              "    <tr>\n",
              "      <th>1952</th>\n",
              "      <td>2.40</td>\n",
              "      <td>190</td>\n",
              "      <td>44.60</td>\n",
              "    </tr>\n",
              "    <tr>\n",
              "      <th>1956</th>\n",
              "      <td>2.89</td>\n",
              "      <td>0</td>\n",
              "      <td>57.76</td>\n",
              "    </tr>\n",
              "    <tr>\n",
              "      <th>1960</th>\n",
              "      <td>0.85</td>\n",
              "      <td>0</td>\n",
              "      <td>49.91</td>\n",
              "    </tr>\n",
              "    <tr>\n",
              "      <th>1964</th>\n",
              "      <td>4.21</td>\n",
              "      <td>1</td>\n",
              "      <td>61.34</td>\n",
              "    </tr>\n",
              "    <tr>\n",
              "      <th>1968</th>\n",
              "      <td>3.02</td>\n",
              "      <td>146</td>\n",
              "      <td>49.60</td>\n",
              "    </tr>\n",
              "  </tbody>\n",
              "</table>\n",
              "</div>"
            ],
            "text/plain": [
              "      income  fatalities  incumbent_vote_share\n",
              "year                                          \n",
              "1952    2.40         190                 44.60\n",
              "1956    2.89           0                 57.76\n",
              "1960    0.85           0                 49.91\n",
              "1964    4.21           1                 61.34\n",
              "1968    3.02         146                 49.60"
            ]
          },
          "metadata": {
            "tags": []
          },
          "execution_count": 3
        }
      ]
    },
    {
      "cell_type": "markdown",
      "metadata": {
        "id": "clSKEQKHUpWp"
      },
      "source": [
        "# Do train/test split"
      ]
    },
    {
      "cell_type": "code",
      "metadata": {
        "id": "VtNM_qdtmLBp"
      },
      "source": [
        "target = 'incumbent_vote_share'\n",
        "y = df[target]\n",
        "X = df.drop(columns = target)"
      ],
      "execution_count": 4,
      "outputs": []
    },
    {
      "cell_type": "code",
      "metadata": {
        "colab": {
          "base_uri": "https://localhost:8080/"
        },
        "id": "7PK1GA5OpJ_n",
        "outputId": "f5c82155-2421-4a5e-a74c-b3ee34975f0d"
      },
      "source": [
        "print('X shape:',X.shape,'\\ny shape:',y.shape)"
      ],
      "execution_count": 5,
      "outputs": [
        {
          "output_type": "stream",
          "text": [
            "X shape: (17, 2) \n",
            "y shape: (17,)\n"
          ],
          "name": "stdout"
        }
      ]
    },
    {
      "cell_type": "markdown",
      "metadata": {
        "id": "DbgasN0xpbb_"
      },
      "source": [
        "Your model should 'GENERALIZE' well"
      ]
    },
    {
      "cell_type": "markdown",
      "metadata": {
        "id": "-qULayiCUpWq"
      },
      "source": [
        "## Overview"
      ]
    },
    {
      "cell_type": "markdown",
      "metadata": {
        "id": "U-C3W6yhUpWq"
      },
      "source": [
        "### Predict Elections! 🇺🇸🗳️"
      ]
    },
    {
      "cell_type": "markdown",
      "metadata": {
        "id": "CJSwuoNHUpWq"
      },
      "source": [
        "How could we try to predict the 2020 US Presidential election? \n",
        "\n",
        "According to Douglas Hibbs, a political science and economics professor, you can [explain elections with just two features, \"Bread and Peace\":](https://douglas-hibbs.com/background-information-on-bread-and-peace-voting-in-us-presidential-elections/)\n",
        "\n",
        "> Aggregate two-party vote shares going to candidates of the party holding the presidency during the postwar era are well explained by just two fundamental determinants:\n",
        ">\n",
        "> (1) Positively by weighted-average growth of per capita real disposable personal income over the term.  \n",
        "> (2) Negatively by cumulative US military fatalities (scaled to population) owing to unprovoked, hostile deployments of American armed forces in foreign wars. "
      ]
    },
    {
      "cell_type": "markdown",
      "metadata": {
        "id": "LySfSmbSUpWq"
      },
      "source": [
        "Let's look at the data that Hibbs collected and analyzed:"
      ]
    },
    {
      "cell_type": "markdown",
      "metadata": {
        "id": "yHKq5hVeUpWr"
      },
      "source": [
        "Data Sources & Definitions\n",
        "\n",
        "- 1952-2012: Douglas Hibbs, [2014 lecture at Deakin University Melbourne](http://www.douglas-hibbs.com/HibbsArticles/HIBBS-PRESVOTE-SLIDES-MELBOURNE-Part1-2014-02-26.pdf), Slide 40\n",
        "- 2016, Vote Share: [The American Presidency Project](https://www.presidency.ucsb.edu/statistics/elections)\n",
        "- 2016, Recent Growth in Personal Incomes: [The 2016 election economy: the \"Bread and Peace\" model final forecast](https://angrybearblog.com/2016/11/the-2016-election-economy-the-bread-and-peace-model-final-forecast.html)\n",
        "- 2016, US Military Fatalities: Assumption that Afghanistan War fatalities in 2012-16 occured at the same rate as 2008-12\n",
        "\n",
        "> Fatalities denotes the cumulative number of American military fatalities per millions of US population the in Korea, Vietnam, Iraq and Afghanistan wars during the presidential terms preceding the 1952, 1964, 1968, 1976 and 2004, 2008 and 2012 elections. —[Hibbs](http://www.douglas-hibbs.com/HibbsArticles/HIBBS-PRESVOTE-SLIDES-MELBOURNE-Part1-2014-02-26.pdf), Slide 33"
      ]
    },
    {
      "cell_type": "markdown",
      "metadata": {
        "id": "mGG8KuwJUpWr"
      },
      "source": [
        "Here we have data from the 1952-2016 elections. We could make a model to predict 1952-2016 election outcomes — but do we really care about that? \n",
        "\n",
        "No, not really. We already know what happened, we don't need to predict it."
      ]
    },
    {
      "cell_type": "markdown",
      "metadata": {
        "id": "_-yhoG5fUpWr"
      },
      "source": [
        "This is explained in [_An Introduction to Statistical Learning_](http://faculty.marshall.usc.edu/gareth-james/ISL/), Chapter 2.2, Assessing Model Accuracy:\n",
        "\n",
        "> In general, we do not really care how well the method works training on the training data. Rather, _we are interested in the accuracy of the predictions that we obtain when we apply our method to previously unseen test data._ Why is this what we care about? \n",
        ">\n",
        "> Suppose that we are interested in developing an algorithm to predict a stock’s price based on previous stock returns. We can train the method using stock returns from the past 6 months. But we don’t really care how well our method predicts last week’s stock price. We instead care about how well it will predict tomorrow’s price or next month’s price. \n",
        ">\n",
        "> On a similar note, suppose that we have clinical measurements (e.g. weight, blood pressure, height, age, family history of disease) for a number of patients, as well as information about whether each patient has diabetes. We can use these patients to train a statistical learning method to predict risk of diabetes based on clinical measurements. In practice, we want this method to accurately predict diabetes risk for _future patients_ based on their clinical measurements. We are not very interested in whether or not the method accurately predicts diabetes risk for patients used to train the model, since we already know which of those patients have diabetes."
      ]
    },
    {
      "cell_type": "markdown",
      "metadata": {
        "id": "07htOmthUpWs"
      },
      "source": [
        "So, we're really interested in the 2020 election — but we probably don't want to wait until then to evaluate our model.\n",
        "\n",
        "There is a way we can estimate now how well our model will generalize in the future. We can't fast-forward time, but we can rewind it...\n",
        "\n",
        "We can split our data in **two sets.** For example: \n",
        "1. **Train** a model on elections before 2008.\n",
        "2. **Test** the model on 2008, 2012, 2016. \n",
        "\n",
        "This \"backtesting\" helps us estimate how well the model will predict the next elections going forward, starting in 2020."
      ]
    },
    {
      "cell_type": "markdown",
      "metadata": {
        "id": "GmOuue8TUpWs"
      },
      "source": [
        "This is explained in [_Forecasting,_ Chapter 3.4,](https://otexts.com/fpp2/accuracy.html) Evaluating forecast accuracy:\n",
        "\n",
        "> The accuracy of forecasts can only be determined by considering how well a model performs on new data that were not used when fitting the model.\n",
        ">\n",
        ">When choosing models, it is common practice to separate the available data into two portions, training and test data, where the training data is used to estimate any parameters of a forecasting method and the test data is used to evaluate its accuracy. Because the test data is not used in determining the forecasts, it should provide a reliable indication of how well the model is likely to forecast on new data.\n",
        ">\n",
        ">![](https://otexts.com/fpp2/fpp_files/figure-html/traintest-1.png)\n",
        ">\n",
        ">The size of the test set is typically about 20% of the total sample, although this value depends on how long the sample is and how far ahead you want to forecast. The following points should be noted.\n",
        ">\n",
        ">- A model which fits the training data well will not necessarily forecast well.\n",
        ">- A perfect fit can always be obtained by using a model with enough parameters.\n",
        ">- Over-fitting a model to data is just as bad as failing to identify a systematic pattern in the data.\n",
        ">\n",
        ">Some references describe the test set as the “hold-out set” because these data are “held out” of the data used for fitting. Other references call the training set the “in-sample data” and the test set the “out-of-sample data”. We prefer to use “training data” and “test data” in this book."
      ]
    },
    {
      "cell_type": "markdown",
      "metadata": {
        "id": "PcJDVBPxUpWt"
      },
      "source": [
        "**How should we split: Randomly? Before/after a given date?**\n",
        "\n",
        "I recommend you all read a great blog post, [How (and why) to create a good validation set](https://www.fast.ai/2017/11/13/validation-sets/), by fast.ai cofounder Rachel Thomas.\n",
        "\n",
        "She gives great examples to answer the question “When is a random subset not good enough?” I’m not as opposed to random splits as Rachel Thomas seems to be. But it’s worth thinking about the trade-offs!\n",
        "\n",
        "Time-based and random splits can both be useful, and you’ll get repeated hands-on practice with both during this unit! (She also talks about the distinction between validation & test sets, which we’ll introduce in the last lesson of this Sprint.)"
      ]
    },
    {
      "cell_type": "markdown",
      "metadata": {
        "id": "yEYzdfqH1vAL"
      },
      "source": [
        "#Mikayla's Notes--------------------------\n",
        "\n",
        "Training data and testing data\n",
        "\n",
        "80% reserved for training \n",
        "20% reserved for testing\n",
        "\n",
        "For this specific issue we need to use the 80% of years and then the last 20% of years\n",
        "\n",
        "For other data sets we need to consider seasonality "
      ]
    },
    {
      "cell_type": "markdown",
      "metadata": {
        "id": "CYQ7_BmMUpWt"
      },
      "source": [
        "## Follow Along\n",
        "\n",
        "Split the data in two sets:\n",
        "1. Train on elections before 2008.\n",
        "2. Test on 2008 and after."
      ]
    },
    {
      "cell_type": "markdown",
      "metadata": {
        "id": "Dek_MCFyXLq7"
      },
      "source": [
        "\n",
        "\n",
        "**First** we need to split our **target vector** from our **feature matrix**.\n",
        "\n",
        "target vector aka - y-variable, response variable, dependent variable\n",
        "\n",
        "feature matrix - matrix of x-variables"
      ]
    },
    {
      "cell_type": "markdown",
      "metadata": {
        "id": "DZkHRqALX2be"
      },
      "source": [
        "**Second** we need to split our dataset into **training** and **test** sets.\n",
        "\n",
        "Two strategies:\n",
        "\n",
        "- Random train-test split using [`train_test_split`](https://scikit-learn.org/stable/modules/generated/sklearn.model_selection.train_test_split.html). Generally we use 80% of the data for training, and 20% of the data for testing.\n",
        "- If you have **timeseries**, then you need to do a \"cutoff\" split."
      ]
    },
    {
      "cell_type": "code",
      "metadata": {
        "colab": {
          "base_uri": "https://localhost:8080/"
        },
        "id": "k3e0avxu1w5D",
        "outputId": "dee3e96c-d6aa-459d-8eec-99a687ad1aca"
      },
      "source": [
        "cuttoff = X.index <2008\n",
        "\n",
        "y_train = y.loc[cuttoff]\n",
        "y_test = y.loc[~cuttoff]\n",
        "\n",
        "X_train = X.loc[cuttoff]\n",
        "X_test = X.loc[~cuttoff]\n",
        "\n",
        "print(X_train)"
      ],
      "execution_count": 6,
      "outputs": [
        {
          "output_type": "stream",
          "text": [
            "      income  fatalities\n",
            "year                    \n",
            "1952    2.40         190\n",
            "1956    2.89           0\n",
            "1960    0.85           0\n",
            "1964    4.21           1\n",
            "1968    3.02         146\n",
            "1972    3.62           0\n",
            "1976    1.08           2\n",
            "1980   -0.39           0\n",
            "1984    3.86           0\n",
            "1988    2.27           0\n",
            "1992    0.38           0\n",
            "1996    1.04           0\n",
            "2000    2.36           0\n",
            "2004    1.72           4\n"
          ],
          "name": "stdout"
        }
      ]
    },
    {
      "cell_type": "markdown",
      "metadata": {
        "id": "8rz_FvjjUpWu"
      },
      "source": [
        "Note that this volume of data is at least two orders of magnitude smaller than we usually want to work with for predictive modeling.\n",
        "\n",
        "There are other validation techniques that could be used here, such as [time series cross-validation](https://scikit-learn.org/stable/modules/cross_validation.html#time-series-split), or [leave-one-out cross validation](https://scikit-learn.org/stable/modules/cross_validation.html#leave-one-out-loo) for small datasets. However, for this module, let's start simpler, with train/test split. \n",
        "\n",
        "Using a tiny dataset is intentional here. It's good for learning because we can see all the data at once."
      ]
    },
    {
      "cell_type": "markdown",
      "metadata": {
        "id": "aq4vnVY0UpWu"
      },
      "source": [
        "## Challenge\n",
        "\n",
        "In your assignment, you will do train/test split, based on date."
      ]
    },
    {
      "cell_type": "markdown",
      "metadata": {
        "id": "mz6nTQqQUpWu"
      },
      "source": [
        "# Use scikit-learn to fit a multiple regression"
      ]
    },
    {
      "cell_type": "markdown",
      "metadata": {
        "id": "-bNBDpuzUpWu"
      },
      "source": [
        "## Overview\n",
        "\n",
        "We've done train/test split, and we're ready to fit a model. \n",
        "\n",
        "We'll proceed in 3 steps. The first 2 are review from the previous module. The 3rd is new.\n",
        "\n",
        "- Begin with baselines (0 features) \n",
        "- Simple regression (1 feature)\n",
        "- Multiple regression (2 features)"
      ]
    },
    {
      "cell_type": "markdown",
      "metadata": {
        "id": "FJH3cKVmUpWu"
      },
      "source": [
        "## Follow Along"
      ]
    },
    {
      "cell_type": "markdown",
      "metadata": {
        "id": "8tStbgdtUpWu"
      },
      "source": [
        "### Begin with baselines (0 features)"
      ]
    },
    {
      "cell_type": "markdown",
      "metadata": {
        "id": "Tyd4V3UXUpWu"
      },
      "source": [
        "What was the average Incumbent Party Vote Share, in the 1952-2004 elections?"
      ]
    },
    {
      "cell_type": "code",
      "metadata": {
        "id": "J1CnVHqU1ShS"
      },
      "source": [
        "baseline_pred = y_train.mean()"
      ],
      "execution_count": 7,
      "outputs": []
    },
    {
      "cell_type": "markdown",
      "metadata": {
        "id": "qX-u9oUKUpWv"
      },
      "source": [
        "What if we guessed this number for every election? How far off would this be on average?"
      ]
    },
    {
      "cell_type": "code",
      "metadata": {
        "colab": {
          "base_uri": "https://localhost:8080/"
        },
        "id": "zdzYLk5i1Puy",
        "outputId": "728168d9-dec9-445c-e894-17c3ec26a733"
      },
      "source": [
        "y_base_pred = [baseline_pred] * len(y_train)\n",
        "baseline_mae = mean_absolute_error(y_train,y_base_pred)\n",
        "baseline_mae"
      ],
      "execution_count": 8,
      "outputs": [
        {
          "output_type": "execute_result",
          "data": {
            "text/plain": [
              "4.846938775510204"
            ]
          },
          "metadata": {
            "tags": []
          },
          "execution_count": 8
        }
      ]
    },
    {
      "cell_type": "code",
      "metadata": {
        "colab": {
          "base_uri": "https://localhost:8080/"
        },
        "id": "d_0dWZ4X1bJC",
        "outputId": "9eee3629-3480-4f00-c37a-6dc8cb489d0f"
      },
      "source": [
        "y_test_pred = [baseline_pred]*len(y_test)\n",
        "baseline_mae_test = mean_absolute_error(y_test,y_test_pred)\n",
        "baseline_mae_test"
      ],
      "execution_count": 9,
      "outputs": [
        {
          "output_type": "execute_result",
          "data": {
            "text/plain": [
              "3.6285714285714215"
            ]
          },
          "metadata": {
            "tags": []
          },
          "execution_count": 9
        }
      ]
    },
    {
      "cell_type": "markdown",
      "metadata": {
        "id": "8Yefz9DxUpWw"
      },
      "source": [
        "### Simple regression (1 feature)"
      ]
    },
    {
      "cell_type": "markdown",
      "metadata": {
        "id": "OdKWiSIZUpWw"
      },
      "source": [
        "Make a scatterplot of the relationship between 1 feature and the target.\n",
        "\n",
        "We'll use an economic feature: Average Recent Growth in Personal Incomes. (\"Bread\")"
      ]
    },
    {
      "cell_type": "markdown",
      "metadata": {
        "id": "zZLN8ZVeUpWw"
      },
      "source": [
        "1952 & 1968 are outliers: The incumbent party got fewer votes than predicted by the regression. What do you think could explain those years? We'll come back to this soon, but first..."
      ]
    },
    {
      "cell_type": "markdown",
      "metadata": {
        "id": "kLymJ5B_UpWw"
      },
      "source": [
        "Use scikit-learn to fit the simple regression with one feature.\n",
        "\n",
        "Follow the [5 step process](https://jakevdp.github.io/PythonDataScienceHandbook/05.02-introducing-scikit-learn.html#Basics-of-the-API), and refer to [Scikit-Learn LinearRegression documentation](https://scikit-learn.org/stable/modules/generated/sklearn.linear_model.LinearRegression.html)."
      ]
    },
    {
      "cell_type": "markdown",
      "metadata": {
        "id": "6OyLKDZwUpWx"
      },
      "source": [
        "How does the error compare to the baseline?"
      ]
    },
    {
      "cell_type": "code",
      "metadata": {
        "colab": {
          "base_uri": "https://localhost:8080/",
          "height": 299
        },
        "id": "Dm-9vwOx1e8y",
        "outputId": "d7a3523c-39ce-47b8-d58b-656e03da2db5"
      },
      "source": [
        "plt.scatter(df['fatalities'], df['incumbent_vote_share'])\n",
        "plt.xlabel('Military Fatalities [per Million]')\n",
        "plt.ylabel('Incumbent Party Vote Share [%]')"
      ],
      "execution_count": 10,
      "outputs": [
        {
          "output_type": "execute_result",
          "data": {
            "text/plain": [
              "Text(0, 0.5, 'Incumbent Party Vote Share [%]')"
            ]
          },
          "metadata": {
            "tags": []
          },
          "execution_count": 10
        },
        {
          "output_type": "display_data",
          "data": {
            "image/png": "[encoded data removed]",
            "text/plain": [
              "<Figure size 432x288 with 1 Axes>"
            ]
          },
          "metadata": {
            "tags": [],
            "needs_background": "light"
          }
        }
      ]
    },
    {
      "cell_type": "code",
      "metadata": {
        "colab": {
          "base_uri": "https://localhost:8080/",
          "height": 299
        },
        "id": "50YNsOhX1gKC",
        "outputId": "f70fee55-c895-49d6-aa89-3d9f094d19fa"
      },
      "source": [
        "plt.scatter(df['income'], df['incumbent_vote_share'])\n",
        "plt.xlabel('Military Fatalities [per Million]')\n",
        "plt.ylabel('Incumbent Party Vote Share [%]')"
      ],
      "execution_count": 11,
      "outputs": [
        {
          "output_type": "execute_result",
          "data": {
            "text/plain": [
              "Text(0, 0.5, 'Incumbent Party Vote Share [%]')"
            ]
          },
          "metadata": {
            "tags": []
          },
          "execution_count": 11
        },
        {
          "output_type": "display_data",
          "data": {
            "image/png": "[encoded data removed]",
            "text/plain": [
              "<Figure size 432x288 with 1 Axes>"
            ]
          },
          "metadata": {
            "tags": [],
            "needs_background": "light"
          }
        }
      ]
    },
    {
      "cell_type": "code",
      "metadata": {
        "id": "dAxCPP_S18ki"
      },
      "source": [
        "from sklearn.linear_model import LinearRegression\n",
        "model_1 = LinearRegression()\n",
        "X1_train = X_train[['income']]\n",
        "X1_test = X_test[['income']]\n",
        "model_1.fit(X1_train,y_train)\n",
        "y1_pred = model_1.predict(X1_train)"
      ],
      "execution_count": 12,
      "outputs": []
    },
    {
      "cell_type": "code",
      "metadata": {
        "colab": {
          "base_uri": "https://localhost:8080/"
        },
        "id": "ER7bGQkA37Ix",
        "outputId": "86480e0b-db71-4297-c959-e8065bc113ff"
      },
      "source": [
        "mae_model1 = mean_absolute_error(y_train,y1_pred)\n",
        "mae_model1"
      ],
      "execution_count": 13,
      "outputs": [
        {
          "output_type": "execute_result",
          "data": {
            "text/plain": [
              "2.645479454315596"
            ]
          },
          "metadata": {
            "tags": []
          },
          "execution_count": 13
        }
      ]
    },
    {
      "cell_type": "code",
      "metadata": {
        "colab": {
          "base_uri": "https://localhost:8080/"
        },
        "id": "Mf5OhPSW34-h",
        "outputId": "6315af71-dbd0-408a-aefa-33a59ff419a0"
      },
      "source": [
        "y1_pred_test = model_1.predict(X1_test)\n",
        "mae_model1_test = mean_absolute_error(y_test,y1_pred_test)\n",
        "mae_model1_test"
      ],
      "execution_count": 14,
      "outputs": [
        {
          "output_type": "execute_result",
          "data": {
            "text/plain": [
              "1.7998717748375863"
            ]
          },
          "metadata": {
            "tags": []
          },
          "execution_count": 14
        }
      ]
    },
    {
      "cell_type": "markdown",
      "metadata": {
        "id": "YLDoE34DUpWx"
      },
      "source": [
        "### Multiple regression (2 features)"
      ]
    },
    {
      "cell_type": "markdown",
      "metadata": {
        "id": "22EtnfHPUpWx"
      },
      "source": [
        "Make a scatterplot of the relationship between 2 features and the target.\n",
        "\n",
        "We'll add another feature: US Military Fatalities per Million. (\"Peace\" or the lack thereof.)\n",
        "\n",
        "Rotate the scatterplot to explore the data. What's different about 1952 & 1968?"
      ]
    },
    {
      "cell_type": "code",
      "metadata": {
        "colab": {
          "base_uri": "https://localhost:8080/",
          "height": 319
        },
        "id": "x0uLywry33Wh",
        "outputId": "a972ceda-7f1a-447b-9b07-9ce9c558fa3f"
      },
      "source": [
        "from mpl_toolkits.mplot3d import Axes3D\n",
        "fig = plt.figure()\n",
        "ax = Axes3D(fig)\n",
        "\n",
        "x = df['income']\n",
        "z = df['incumbent_vote_share']\n",
        "y = df['fatalities']\n",
        "\n",
        "ax.set_xlabel(\"Income\")\n",
        "ax.set_ylabel(\"incumbent vote share\")\n",
        "ax.set_zlabel(\"fatalities\")\n",
        "\n",
        "ax.scatter(x, y, z)\n",
        "\n",
        "plt.show()"
      ],
      "execution_count": 15,
      "outputs": [
        {
          "output_type": "display_data",
          "data": {
            "image/png": "[encoded data removed]",
            "text/plain": [
              "<Figure size 432x288 with 1 Axes>"
            ]
          },
          "metadata": {
            "tags": [],
            "needs_background": "light"
          }
        }
      ]
    },
    {
      "cell_type": "markdown",
      "metadata": {
        "id": "8W2CURoDUpWy"
      },
      "source": [
        "Use scikit-learn to fit a multiple regression with two features."
      ]
    },
    {
      "cell_type": "code",
      "metadata": {
        "id": "J7xkskl04Ih5"
      },
      "source": [
        "X2_train = X_train[['income','fatalities']]\n",
        "X2_test = X_test[['income','fatalities']]\n",
        "model_2 = LinearRegression()\n",
        "model_2.fit(X2_train,y_train)\n",
        "y2_pred = model_2.predict(X2_train)"
      ],
      "execution_count": 16,
      "outputs": []
    },
    {
      "cell_type": "code",
      "metadata": {
        "colab": {
          "base_uri": "https://localhost:8080/"
        },
        "id": "JYivAF5a4J16",
        "outputId": "bb5dd749-b07c-4716-94e6-7d93b626c159"
      },
      "source": [
        "mae_model2 = mean_absolute_error(y_train,y2_pred)\n",
        "mae_model2"
      ],
      "execution_count": 17,
      "outputs": [
        {
          "output_type": "execute_result",
          "data": {
            "text/plain": [
              "1.3303221006874268"
            ]
          },
          "metadata": {
            "tags": []
          },
          "execution_count": 17
        }
      ]
    },
    {
      "cell_type": "code",
      "metadata": {
        "colab": {
          "base_uri": "https://localhost:8080/"
        },
        "id": "ICfxPUKz40tZ",
        "outputId": "a96bd4a4-58bb-4acd-be2c-260d472c4694"
      },
      "source": [
        "y2_pred_test = model_2.predict(X2_test)\n",
        "mae_model2_test = mean_absolute_error(y_test, y2_pred_test)\n",
        "mae_model2_test"
      ],
      "execution_count": 18,
      "outputs": [
        {
          "output_type": "execute_result",
          "data": {
            "text/plain": [
              "1.6341722692537293"
            ]
          },
          "metadata": {
            "tags": []
          },
          "execution_count": 18
        }
      ]
    },
    {
      "cell_type": "markdown",
      "metadata": {
        "id": "WaRAGheUUpWz"
      },
      "source": [
        "How does the error compare to the prior model?"
      ]
    },
    {
      "cell_type": "markdown",
      "metadata": {
        "id": "lJFu8vfkUpWz"
      },
      "source": [
        "### Plot the plane of best fit"
      ]
    },
    {
      "cell_type": "markdown",
      "metadata": {
        "id": "zqkOYT5vUpWz"
      },
      "source": [
        "For a regression with 1 feature, we plotted the line of best fit in 2D. \n",
        "\n",
        "(There are many ways to do this. Plotly Express's `scatter` function makes it convenient with its `trendline='ols'` parameter.)\n",
        "\n",
        "For a regression with 2 features, we can plot the plane of best fit in 3D!\n",
        "\n",
        "(Plotly Express has a `scatter_3d` function but it won't plot the plane of best fit for us. But, we can write our own function, with the same \"function signature\" as the Plotly Express API.)"
      ]
    },
    {
      "cell_type": "markdown",
      "metadata": {
        "id": "WFMQt1PBUpW0"
      },
      "source": [
        "Where are 1952 & 1968 in relation to the plane? Which elections are the biggest outliers now?"
      ]
    },
    {
      "cell_type": "markdown",
      "metadata": {
        "id": "9Huom7RwUpW0"
      },
      "source": [
        "Roll over points on the plane to see predicted incumbent party vote share (z axis), dependent on personal income growth (x axis) and military fatatlies per capita (y axis)."
      ]
    },
    {
      "cell_type": "markdown",
      "metadata": {
        "id": "4hZxeLX2UpW0"
      },
      "source": [
        "### Get and interpret coefficients"
      ]
    },
    {
      "cell_type": "markdown",
      "metadata": {
        "id": "Up_PkROkUpW0"
      },
      "source": [
        "During the previous module, we got the simple regression's coefficient and intercept. We plugged these numbers into an equation for the line of best fit, in slope-intercept form: $y = mx + b$\n",
        "\n",
        "Let's review this objective, but now for multiple regression.\n",
        "\n",
        "What's the equation for the plane of best fit?\n",
        "\n",
        "$y = \\beta_0 + \\beta_1x_1 + \\beta_2x_2$\n",
        "\n",
        "Can you relate the intercept and coefficients to what you see in the plot above?"
      ]
    },
    {
      "cell_type": "markdown",
      "metadata": {
        "id": "Z5a64Ko7UpW4"
      },
      "source": [
        "## Challenge\n",
        "\n",
        "In your assignment, you'll fit a Linear Regression with at least 2 features."
      ]
    },
    {
      "cell_type": "markdown",
      "metadata": {
        "id": "f3Qk6ImnUpW4"
      },
      "source": [
        "# Understand how ordinary least squares regression minimizes the sum of squared errors"
      ]
    },
    {
      "cell_type": "markdown",
      "metadata": {
        "id": "vRDmhpUGUpW4"
      },
      "source": [
        "## Overview\n",
        "\n",
        "So far, we've evaluated our models by their absolute error. It's an intuitive metric for regression problems.\n",
        "\n",
        "However, ordinary least squares doesn't directly minimize absolute error. Instead, it minimizes squared error.\n",
        "\n",
        "\n"
      ]
    },
    {
      "cell_type": "markdown",
      "metadata": {
        "id": "OokTYaCvUpW4"
      },
      "source": [
        "In this section, we'll introduce two new regression metrics: \n",
        "\n",
        "- Squared error\n",
        "- $R^2$\n"
      ]
    },
    {
      "cell_type": "markdown",
      "metadata": {
        "id": "1cbAFx25UpW4"
      },
      "source": [
        "We'll demostrate two possible methods to minimize squared error:\n",
        "\n",
        "- Guess & check\n",
        "- Linear Algebra"
      ]
    },
    {
      "cell_type": "markdown",
      "metadata": {
        "id": "Y4_bXjxKUpW4"
      },
      "source": [
        "## Follow Along"
      ]
    },
    {
      "cell_type": "markdown",
      "metadata": {
        "id": "BGqeWXMeUpW5"
      },
      "source": [
        "Notice that $R^2$ is exactly zero. \n",
        "\n",
        "[$R^2$ represents the proportion of the variance for a dependent variable that is explained by the independent variable(s).](https://en.wikipedia.org/wiki/Coefficient_of_determination)\n",
        "\n",
        "The mean baseline uses zero independent variables and explains none of the variance in the dependent variable, so its $R^2$ score is zero.\n",
        "\n",
        "The highest possible $R^2$ score is 1. The lowest possible *Train* $R^2$ score with ordinary least squares regression is 0.\n",
        "\n",
        "In this demo, it's possible to get a negative Train $R^2$, if you manually set values of m & b that are worse than the mean baseline. But that wouldn't happen in the real world.\n",
        "\n",
        "However, in the real world, it _is_ possible to get a negative *Test/Validation* $R^2$. It means that your *Test/Validation* predictions are worse than if you'd constantly predicted the mean of the *Test/Validation* set."
      ]
    },
    {
      "cell_type": "markdown",
      "metadata": {
        "id": "BBfnX6YxUpW5"
      },
      "source": [
        "---\n",
        "\n",
        "Now that we've visualized the squared errors for the mean baseline, let's guess & check some better values for the m & b parameters:"
      ]
    },
    {
      "cell_type": "markdown",
      "metadata": {
        "id": "td-3-e0_UpW5"
      },
      "source": [
        "You can run the function repeatedly, with different values for m & b.\n",
        "\n",
        "How do you interpret each metric you see?\n",
        "\n",
        "- Mean Squared Error\n",
        "- Root Mean Squared Error\n",
        "- Mean Absolute Error\n",
        "- $R^2$\n",
        "\n",
        "Does guess & check really get used in machine learning? Sometimes! Some complex functions are hard to minimize, so we use a sophisticated form of guess & check called \"gradient descent\", which you'll learn about in Unit 4.\n",
        "\n",
        "Fortunately, we don't need to use guess & check for ordinary least squares regression. We have a solution, using linear algebra!\n"
      ]
    },
    {
      "cell_type": "markdown",
      "metadata": {
        "id": "BAJVmKOnUpW5"
      },
      "source": [
        "### Linear Algebra\n",
        "\n",
        "The same result that is found by minimizing the sum of the squared errors can be also found through a linear algebra process known as the \"Least Squares Solution:\"\n",
        "\n",
        "\\begin{align}\n",
        "\\hat{\\beta} = (X^{T}X)^{-1}X^{T}y\n",
        "\\end{align}\n",
        "\n",
        "Before we can work with this equation in its linear algebra form we have to understand how to set up the matrices that are involved in this equation. \n",
        "\n",
        "#### The $\\beta$ vector\n",
        "\n",
        "The $\\beta$ vector represents all the parameters that we are trying to estimate, our $y$ vector and $X$ matrix values are full of data from our dataset. The $\\beta$ vector holds the variables that we are solving for: $\\beta_0$ and $\\beta_1$\n",
        "\n",
        "Now that we have all of the necessary parts we can set them up in the following equation:\n",
        "\n",
        "\\begin{align}\n",
        "y = X \\beta + \\epsilon\n",
        "\\end{align}\n",
        "\n",
        "Since our $\\epsilon$ value represents **random** error we can assume that it will equal zero on average.\n",
        "\n",
        "\\begin{align}\n",
        "y = X \\beta\n",
        "\\end{align}\n",
        "\n",
        "The objective now is to isolate the $\\beta$ matrix. We can do this by pre-multiplying both sides by \"X transpose\" $X^{T}$.\n",
        "\n",
        "\\begin{align}\n",
        "X^{T}y =  X^{T}X \\beta\n",
        "\\end{align}\n",
        "\n",
        "Since anything times its transpose will result in a square matrix, if that matrix is then an invertible matrix, then we should be able to multiply both sides by its inverse to remove it from the right hand side. (We'll talk tomorrow about situations that could lead to $X^{T}X$ not being invertible.)\n",
        "\n",
        "\\begin{align}\n",
        "(X^{T}X)^{-1}X^{T}y =  (X^{T}X)^{-1}X^{T}X \\beta\n",
        "\\end{align}\n",
        "\n",
        "Since any matrix multiplied by its inverse results in the identity matrix, and anything multiplied by the identity matrix is itself, we are left with only $\\beta$ on the right hand side:\n",
        "\n",
        "\\begin{align}\n",
        "(X^{T}X)^{-1}X^{T}y = \\hat{\\beta}\n",
        "\\end{align}\n",
        "\n",
        "We will now call it \"beta hat\" $\\hat{\\beta}$ because it now represents our estimated values for $\\beta_0$ and $\\beta_1$\n",
        "\n",
        "#### Lets calculate our $\\beta$ parameters with numpy!"
      ]
    },
    {
      "cell_type": "markdown",
      "metadata": {
        "id": "HOFYE9xEUpW6"
      },
      "source": [
        "# Define overfitting/underfitting and the bias/variance tradeoff"
      ]
    },
    {
      "cell_type": "markdown",
      "metadata": {
        "id": "cRWFO9vkUpW6"
      },
      "source": [
        "## Overview"
      ]
    },
    {
      "cell_type": "markdown",
      "metadata": {
        "id": "FuYxp72vUpW6"
      },
      "source": [
        "Read [_Python Data Science Handbook,_ Chapter 5.3](https://jakevdp.github.io/PythonDataScienceHandbook/05.03-hyperparameters-and-model-validation.html#The-Bias-variance-trade-off). Jake VanderPlas explains overfitting & underfitting:\n",
        "\n",
        "> Fundamentally, the question of \"the best model\" is about finding a sweet spot in the tradeoff between bias and variance. Consider the following figure, which presents two regression fits to the same dataset:\n",
        "> \n",
        ">![](https://jakevdp.github.io/PythonDataScienceHandbook/figures/05.03-bias-variance-2.png)\n",
        ">\n",
        "> The model on the left attempts to find a straight-line fit through the data. Because the data are intrinsically more complicated than a straight line, the straight-line model will never be able to describe this dataset well. Such a model is said to _underfit_ the data: that is, it does not have enough model flexibility to suitably account for all the features in the data; another way of saying this is that the model has high _bias_.\n",
        ">\n",
        "> The model on the right attempts to fit a high-order polynomial through the data. Here the model fit has enough flexibility to nearly perfectly account for the fine features in the data, but even though it very accurately describes the training data, its precise form seems to be more reflective of the particular noise properties of the data rather than the intrinsic properties of whatever process generated that data. Such a model is said to _overfit_ the data: that is, it has so much model flexibility that the model ends up accounting for random errors as well as the underlying data distribution; another way of saying this is that the model has high _variance_."
      ]
    },
    {
      "cell_type": "markdown",
      "metadata": {
        "id": "VFwBE8taUpW6"
      },
      "source": [
        "VanderPlas goes on to connect these concepts to the \"bias/variance tradeoff\":\n",
        "\n",
        "> From the scores associated with these two models, we can make an observation that holds more generally:\n",
        ">\n",
        ">- For high-bias models, the performance of the model on the validation set is similar to the performance on the training set.\n",
        ">\n",
        ">- For high-variance models, the performance of the model on the validation set is far worse than the performance on the training set.\n",
        ">\n",
        "> If we imagine that we have some ability to tune the model complexity, we would expect the training score and validation score to behave as illustrated in the following figure:\n",
        ">\n",
        ">![](https://jakevdp.github.io/PythonDataScienceHandbook/figures/05.03-validation-curve.png)\n",
        ">\n",
        "> The diagram shown here is often called a validation curve, and we see the following essential features:\n",
        ">\n",
        ">- The training score is everywhere higher than the validation score. This is generally the case: the model will be a better fit to data it has seen than to data it has not seen.\n",
        ">- For very low model complexity (a high-bias model), the training data is under-fit, which means that the model is a poor predictor both for the training data and for any previously unseen data.\n",
        ">- For very high model complexity (a high-variance model), the training data is over-fit, which means that the model predicts the training data very well, but fails for any previously unseen data.\n",
        ">- For some intermediate value, the validation curve has a maximum. This level of complexity indicates a suitable trade-off between bias and variance.\n",
        ">\n",
        ">The means of tuning the model complexity varies from model to model."
      ]
    },
    {
      "cell_type": "markdown",
      "metadata": {
        "id": "pxx6NTkKUpW7"
      },
      "source": [
        "So far, our only \"means of tuning the model complexity\" has been selecting one feature or two features for our linear regression models. But we'll quickly start to select more features, and more complex models, with more \"hyperparameters.\"\n",
        "\n",
        "This is just a first introduction to underfitting & overfitting. We'll continue to learn about this topic all throughout this unit."
      ]
    },
    {
      "cell_type": "markdown",
      "metadata": {
        "id": "Dwy7unhXUpW7"
      },
      "source": [
        "## Follow Along"
      ]
    },
    {
      "cell_type": "markdown",
      "metadata": {
        "id": "mrM0i4XYUpW7"
      },
      "source": [
        "Let's make our own Validation Curve, by tuning a new type of model complexity: polynomial degrees in a linear regression."
      ]
    },
    {
      "cell_type": "markdown",
      "metadata": {
        "id": "QyBFZahgUpW7"
      },
      "source": [
        "Go back to the the NYC Tribeca condo sales data"
      ]
    },
    {
      "cell_type": "code",
      "metadata": {
        "id": "xeR76dodUpW7"
      },
      "source": [
        "# Read NYC Tribeca condo sales data, from first 4 months of 2019.\n",
        "# Dataset has 90 rows, 9 columns.\n",
        "df = pd.read_csv(DATA_PATH+'condos/tribeca.csv')\n",
        "assert df.shape == (90, 9)\n",
        "\n",
        "# Arrange X features matrix & y target vector\n",
        "features = ['GROSS_SQUARE_FEET']\n",
        "target = 'SALE_PRICE'\n",
        "X = df[features]\n",
        "y = df[target]"
      ],
      "execution_count": 19,
      "outputs": []
    },
    {
      "cell_type": "markdown",
      "metadata": {
        "id": "ySAA-Qy6UpW7"
      },
      "source": [
        "Do random [train/test split](https://scikit-learn.org/stable/modules/generated/sklearn.model_selection.train_test_split.html)"
      ]
    },
    {
      "cell_type": "code",
      "metadata": {
        "id": "-c5H84MKUpW7"
      },
      "source": [
        "from sklearn.model_selection import train_test_split\n",
        "X_train, X_test, y_train, y_test = train_test_split(X, y, random_state=11)"
      ],
      "execution_count": 20,
      "outputs": []
    },
    {
      "cell_type": "markdown",
      "metadata": {
        "id": "LhE_6o1PUpW8"
      },
      "source": [
        "Repeatedly fit increasingly complex models, and keep track of the scores"
      ]
    },
    {
      "cell_type": "code",
      "metadata": {
        "id": "bg7HxlWYUpW8",
        "colab": {
          "base_uri": "https://localhost:8080/",
          "height": 1000
        },
        "outputId": "f641591e-0a12-4e34-f491-7607e6d2bbd6"
      },
      "source": [
        "from IPython.display import display, HTML\n",
        "from sklearn.linear_model import LinearRegression\n",
        "from sklearn.metrics import r2_score\n",
        "from sklearn.pipeline import make_pipeline\n",
        "from sklearn.preprocessing import PolynomialFeatures\n",
        "import matplotlib.pyplot as plt\n",
        "import numpy as np\n",
        "\n",
        "\n",
        "# Credit for PolynomialRegression: Jake VanderPlas, Python Data Science Handbook, Chapter 5.3\n",
        "# https://jakevdp.github.io/PythonDataScienceHandbook/05.03-hyperparameters-and-model-validation.html#Validation-curves-in-Scikit-Learn\n",
        "def PolynomialRegression(degree=2, **kwargs):\n",
        "    return make_pipeline(PolynomialFeatures(degree), \n",
        "                         LinearRegression(**kwargs))\n",
        "\n",
        "\n",
        "polynomial_degrees = range(1, 10, 2)\n",
        "train_r2s = []\n",
        "test_r2s = []\n",
        "\n",
        "for degree in polynomial_degrees:\n",
        "    model = PolynomialRegression(degree)\n",
        "    display(HTML(f'Polynomial degree={degree}'))\n",
        "    \n",
        "    model.fit(X_train, y_train)\n",
        "    train_r2 = model.score(X_train, y_train)\n",
        "    test_r2 = model.score(X_test, y_test)\n",
        "    display(HTML(f'<b style=\"color: blue\">Train R2 {train_r2:.2f}</b>'))\n",
        "    display(HTML(f'<b style=\"color: red\">Test R2 {test_r2:.2f}</b>'))\n",
        "\n",
        "    plt.scatter(X_train, y_train, color='blue', alpha=0.5)\n",
        "    plt.scatter(X_test, y_test, color='red', alpha=0.5)\n",
        "    plt.xlabel(features)\n",
        "    plt.ylabel(target)\n",
        "    \n",
        "    x_domain = np.linspace(X.min(), X.max())\n",
        "    curve = model.predict(x_domain)\n",
        "    plt.plot(x_domain, curve, color='blue')\n",
        "    plt.show()\n",
        "    display(HTML('<hr/>'))\n",
        "    \n",
        "    train_r2s.append(train_r2)\n",
        "    test_r2s.append(test_r2)\n",
        "    \n",
        "display(HTML('Validation Curve'))\n",
        "plt.plot(polynomial_degrees, train_r2s, color='blue', label='Train')\n",
        "plt.plot(polynomial_degrees, test_r2s, color='red', label='Test')\n",
        "plt.xlabel('Model Complexity (Polynomial Degree)')\n",
        "plt.ylabel('R^2 Score')\n",
        "plt.legend()\n",
        "plt.show()"
      ],
      "execution_count": 21,
      "outputs": [
        {
          "output_type": "display_data",
          "data": {
            "text/html": [
              "Polynomial degree=1"
            ],
            "text/plain": [
              "<IPython.core.display.HTML object>"
            ]
          },
          "metadata": {
            "tags": []
          }
        },
        {
          "output_type": "display_data",
          "data": {
            "text/html": [
              "<b style=\"color: blue\">Train R2 0.76</b>"
            ],
            "text/plain": [
              "<IPython.core.display.HTML object>"
            ]
          },
          "metadata": {
            "tags": []
          }
        },
        {
          "output_type": "display_data",
          "data": {
            "text/html": [
              "<b style=\"color: red\">Test R2 0.68</b>"
            ],
            "text/plain": [
              "<IPython.core.display.HTML object>"
            ]
          },
          "metadata": {
            "tags": []
          }
        },
        {
          "output_type": "display_data",
          "data": {
            "image/png": "[encoded data removed]",
            "text/plain": [
              "<Figure size 432x288 with 1 Axes>"
            ]
          },
          "metadata": {
            "tags": [],
            "needs_background": "light"
          }
        },
        {
          "output_type": "display_data",
          "data": {
            "text/html": [
              "<hr/>"
            ],
            "text/plain": [
              "<IPython.core.display.HTML object>"
            ]
          },
          "metadata": {
            "tags": []
          }
        },
        {
          "output_type": "display_data",
          "data": {
            "text/html": [
              "Polynomial degree=3"
            ],
            "text/plain": [
              "<IPython.core.display.HTML object>"
            ]
          },
          "metadata": {
            "tags": []
          }
        },
        {
          "output_type": "display_data",
          "data": {
            "text/html": [
              "<b style=\"color: blue\">Train R2 0.81</b>"
            ],
            "text/plain": [
              "<IPython.core.display.HTML object>"
            ]
          },
          "metadata": {
            "tags": []
          }
        },
        {
          "output_type": "display_data",
          "data": {
            "text/html": [
              "<b style=\"color: red\">Test R2 0.59</b>"
            ],
            "text/plain": [
              "<IPython.core.display.HTML object>"
            ]
          },
          "metadata": {
            "tags": []
          }
        },
        {
          "output_type": "display_data",
          "data": {
            "image/png": "[encoded data removed]",
            "text/plain": [
              "<Figure size 432x288 with 1 Axes>"
            ]
          },
          "metadata": {
            "tags": [],
            "needs_background": "light"
          }
        },
        {
          "output_type": "display_data",
          "data": {
            "text/html": [
              "<hr/>"
            ],
            "text/plain": [
              "<IPython.core.display.HTML object>"
            ]
          },
          "metadata": {
            "tags": []
          }
        },
        {
          "output_type": "display_data",
          "data": {
            "text/html": [
              "Polynomial degree=5"
            ],
            "text/plain": [
              "<IPython.core.display.HTML object>"
            ]
          },
          "metadata": {
            "tags": []
          }
        },
        {
          "output_type": "display_data",
          "data": {
            "text/html": [
              "<b style=\"color: blue\">Train R2 0.83</b>"
            ],
            "text/plain": [
              "<IPython.core.display.HTML object>"
            ]
          },
          "metadata": {
            "tags": []
          }
        },
        {
          "output_type": "display_data",
          "data": {
            "text/html": [
              "<b style=\"color: red\">Test R2 0.57</b>"
            ],
            "text/plain": [
              "<IPython.core.display.HTML object>"
            ]
          },
          "metadata": {
            "tags": []
          }
        },
        {
          "output_type": "display_data",
          "data": {
            "image/png": "[encoded data removed]",
            "text/plain": [
              "<Figure size 432x288 with 1 Axes>"
            ]
          },
          "metadata": {
            "tags": [],
            "needs_background": "light"
          }
        },
        {
          "output_type": "display_data",
          "data": {
            "text/html": [
              "<hr/>"
            ],
            "text/plain": [
              "<IPython.core.display.HTML object>"
            ]
          },
          "metadata": {
            "tags": []
          }
        },
        {
          "output_type": "display_data",
          "data": {
            "text/html": [
              "Polynomial degree=7"
            ],
            "text/plain": [
              "<IPython.core.display.HTML object>"
            ]
          },
          "metadata": {
            "tags": []
          }
        },
        {
          "output_type": "display_data",
          "data": {
            "text/html": [
              "<b style=\"color: blue\">Train R2 0.86</b>"
            ],
            "text/plain": [
              "<IPython.core.display.HTML object>"
            ]
          },
          "metadata": {
            "tags": []
          }
        },
        {
          "output_type": "display_data",
          "data": {
            "text/html": [
              "<b style=\"color: red\">Test R2 0.47</b>"
            ],
            "text/plain": [
              "<IPython.core.display.HTML object>"
            ]
          },
          "metadata": {
            "tags": []
          }
        },
        {
          "output_type": "display_data",
          "data": {
            "image/png": "[encoded data removed]",
            "text/plain": [
              "<Figure size 432x288 with 1 Axes>"
            ]
          },
          "metadata": {
            "tags": [],
            "needs_background": "light"
          }
        },
        {
          "output_type": "display_data",
          "data": {
            "text/html": [
              "<hr/>"
            ],
            "text/plain": [
              "<IPython.core.display.HTML object>"
            ]
          },
          "metadata": {
            "tags": []
          }
        },
        {
          "output_type": "display_data",
          "data": {
            "text/html": [
              "Polynomial degree=9"
            ],
            "text/plain": [
              "<IPython.core.display.HTML object>"
            ]
          },
          "metadata": {
            "tags": []
          }
        },
        {
          "output_type": "display_data",
          "data": {
            "text/html": [
              "<b style=\"color: blue\">Train R2 0.86</b>"
            ],
            "text/plain": [
              "<IPython.core.display.HTML object>"
            ]
          },
          "metadata": {
            "tags": []
          }
        },
        {
          "output_type": "display_data",
          "data": {
            "text/html": [
              "<b style=\"color: red\">Test R2 0.44</b>"
            ],
            "text/plain": [
              "<IPython.core.display.HTML object>"
            ]
          },
          "metadata": {
            "tags": []
          }
        },
        {
          "output_type": "display_data",
          "data": {
            "image/png": "[encoded data removed]",
            "text/plain": [
              "<Figure size 432x288 with 1 Axes>"
            ]
          },
          "metadata": {
            "tags": [],
            "needs_background": "light"
          }
        },
        {
          "output_type": "display_data",
          "data": {
            "text/html": [
              "<hr/>"
            ],
            "text/plain": [
              "<IPython.core.display.HTML object>"
            ]
          },
          "metadata": {
            "tags": []
          }
        },
        {
          "output_type": "display_data",
          "data": {
            "text/html": [
              "Validation Curve"
            ],
            "text/plain": [
              "<IPython.core.display.HTML object>"
            ]
          },
          "metadata": {
            "tags": []
          }
        },
        {
          "output_type": "display_data",
          "data": {
            "image/png": "[encoded data removed]",
            "text/plain": [
              "<Figure size 432x288 with 1 Axes>"
            ]
          },
          "metadata": {
            "tags": [],
            "needs_background": "light"
          }
        }
      ]
    },
    {
      "cell_type": "markdown",
      "metadata": {
        "id": "P_sC2blVUpW8"
      },
      "source": [
        "As model complexity increases, what happens to Train $R^2$ and Test $R^2$?"
      ]
    },
    {
      "cell_type": "markdown",
      "metadata": {
        "id": "X8rmhy_LUpW8"
      },
      "source": [
        "# Review\n",
        "\n",
        "In your assignment, you'll continue to **predict how much it costs to rent an apartment in NYC,** using the dataset from renthop.com.\n",
        "\n",
        "\n",
        "- Do train/test split. Use data from April & May 2016 to train. Use data from June 2016 to test.\n",
        "- Engineer at least two new features.\n",
        "- Fit a linear regression model with at least two features.\n",
        "- Get the model's coefficients and intercept.\n",
        "- Get regression metrics RMSE, MAE, and $R^2$, for both the train and test sets.\n",
        "\n",
        "You've been provided with a separate notebook for your assignment, which has all the instructions and stretch goals. What's the best test MAE you can get? Share your score and features used with your cohort on Slack!"
      ]
    },
    {
      "cell_type": "markdown",
      "metadata": {
        "id": "gFynGKLnUpW8"
      },
      "source": [
        "# Sources\n",
        "\n",
        "#### Train/Test Split\n",
        "- James, Witten, Hastie, Tibshirani, [_An Introduction to Statistical Learning_](http://faculty.marshall.usc.edu/gareth-james/ISL/), Chapter 2.2, Assessing Model Accuracy\n",
        "- Hyndman, Athanasopoulos, [_Forecasting,_ Chapter 3.4,](https://otexts.com/fpp2/accuracy.html) Evaluating forecast accuracy\n",
        "- Rachel Thomas, [How (and why) to create a good validation set](https://www.fast.ai/2017/11/13/validation-sets/)\n",
        "\n",
        "#### Bias-Variance Tradeoff\n",
        "- Jake VanderPlas, [_Python Data Science Handbook,_ Chapter 5.3](https://jakevdp.github.io/PythonDataScienceHandbook/05.03-hyperparameters-and-model-validation.html#The-Bias-variance-trade-off), Hyperparameters and Model Validation\n",
        "- StatQuest, [Machine Learning Fundamentals: Bias and Variance](https://youtu.be/EuBBz3bI-aA) (6.5 minutes)\n",
        "\n",
        "#### \"Bread and Peace\" Background\n",
        "- Douglas Hibbs, [Background Information on the ‘Bread and Peace’ Model of Voting in Postwar US Presidential Elections](https://douglas-hibbs.com/background-information-on-bread-and-peace-voting-in-us-presidential-elections/)\n",
        "- Nate Silver, [What Do Economic Models Really Tell Us About Elections?](https://fivethirtyeight.com/features/what-do-economic-models-really-tell-us-about-elections/)\n",
        "\n",
        "\n",
        "#### \"Bread and Peace\" Data Sources & Definitions\n",
        "- 1952-2012: Douglas Hibbs, [2014 lecture at Deakin University Melbourne](http://www.douglas-hibbs.com/HibbsArticles/HIBBS-PRESVOTE-SLIDES-MELBOURNE-Part1-2014-02-26.pdf), Slide 40\n",
        "- 2016, Vote Share: [The American Presidency Project](https://www.presidency.ucsb.edu/statistics/elections)\n",
        "- 2016, Recent Growth in Personal Incomes: [The 2016 election economy: the \"Bread and Peace\" model final forecast](https://angrybearblog.com/2016/11/the-2016-election-economy-the-bread-and-peace-model-final-forecast.html)\n",
        "- 2016, US Military Fatalities: Assumption that Afghanistan War fatalities in 2012-16 occured at the same rate as 2008-12\n",
        "\n",
        "> Fatalities denotes the cumulative number of American military fatalities per millions of US population the in Korea, Vietnam, Iraq and Afghanistan wars during the presidential terms preceding the 1952, 1964, 1968, 1976 and 2004, 2008 and 2012 elections. —[Hibbs](http://www.douglas-hibbs.com/HibbsArticles/HIBBS-PRESVOTE-SLIDES-MELBOURNE-Part1-2014-02-26.pdf), Slide 33"
      ]
    }
  ]
}