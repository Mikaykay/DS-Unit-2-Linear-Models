{
  "nbformat": 4,
  "nbformat_minor": 0,
  "metadata": {
    "colab": {
      "name": "DS29_GP_Unit2_Sprint1_Module1_Nivi",
      "provenance": [],
      "include_colab_link": true
    },
    "kernelspec": {
      "name": "python3",
      "display_name": "Python 3"
    }
  },
  "cells": [
    {
      "cell_type": "markdown",
      "metadata": {
        "id": "view-in-github",
        "colab_type": "text"
      },
      "source": [
        "<a href=\"https://colab.research.google.com/github/Mikaykay/DS-Unit-2-Linear-Models/blob/master/DS29_GP_Unit2_Sprint1_Module1_Nivi.ipynb\" target=\"_parent\"><img src=\"https://colab.research.google.com/assets/colab-badge.svg\" alt=\"Open In Colab\"/></a>"
      ]
    },
    {
      "cell_type": "markdown",
      "metadata": {
        "id": "CPzo2e6aFrjx"
      },
      "source": [
        "# Lambda School Data Science - Unit 2 Sprint 1 Module 1"
      ]
    },
    {
      "cell_type": "markdown",
      "metadata": {
        "id": "2EVx8r5HLa6f"
      },
      "source": [
        "# I. Wrangle Data"
      ]
    },
    {
      "cell_type": "code",
      "metadata": {
        "id": "xrpXzyGffCOA"
      },
      "source": [
        "import pandas as pd\n",
        "import matplotlib.pyplot as plt\n",
        "import numpy as np\n",
        "pd.options.display.max_rows = 1000\n",
        "pd.options.display.max_columns = 1000"
      ],
      "execution_count": null,
      "outputs": []
    },
    {
      "cell_type": "markdown",
      "metadata": {
        "id": "au_SfudeJyBN"
      },
      "source": [
        "## Write a function!"
      ]
    },
    {
      "cell_type": "code",
      "metadata": {
        "id": "kyFh3n_ZzIHg"
      },
      "source": [
        "DATA_PATH = 'https://raw.githubusercontent.com/LambdaSchool/DS-Unit-2-Linear-Models/master/data'\n",
        "\n",
        "def wrangle(filepath):\n",
        "  df = pd.read_csv(filepath,\n",
        "                   na_values=[0.0],\n",
        "                   parse_dates=['SALE_DATE'])\n",
        "\n",
        "\n",
        "  # Low cardinality\n",
        "  df.drop(columns=['NEIGHBORHOOD','BUILDING_CLASS_CATEGORY'],inplace=True)\n",
        "\n",
        "  #Dropping due to high cardinality\n",
        "  df.drop(columns=['ADDRESS','APARTMENT_NUMBER'],inplace=True)\n",
        "\n",
        "  return df\n",
        "\n",
        "df = wrangle(DATA_PATH + '/condos/tribeca.csv')"
      ],
      "execution_count": null,
      "outputs": []
    },
    {
      "cell_type": "code",
      "metadata": {
        "colab": {
          "base_uri": "https://localhost:8080/",
          "height": 195
        },
        "id": "JJhYyaULfcqA",
        "outputId": "525f6bef-ecbf-492c-dd26-d657ef5109a1"
      },
      "source": [
        "df.head()"
      ],
      "execution_count": null,
      "outputs": [
        {
          "output_type": "execute_result",
          "data": {
            "text/html": [
              "<div>\n",
              "<style scoped>\n",
              "    .dataframe tbody tr th:only-of-type {\n",
              "        vertical-align: middle;\n",
              "    }\n",
              "\n",
              "    .dataframe tbody tr th {\n",
              "        vertical-align: top;\n",
              "    }\n",
              "\n",
              "    .dataframe thead th {\n",
              "        text-align: right;\n",
              "    }\n",
              "</style>\n",
              "<table border=\"1\" class=\"dataframe\">\n",
              "  <thead>\n",
              "    <tr style=\"text-align: right;\">\n",
              "      <th></th>\n",
              "      <th>ZIP_CODE</th>\n",
              "      <th>GROSS_SQUARE_FEET</th>\n",
              "      <th>YEAR_BUILT</th>\n",
              "      <th>SALE_PRICE</th>\n",
              "      <th>SALE_DATE</th>\n",
              "    </tr>\n",
              "  </thead>\n",
              "  <tbody>\n",
              "    <tr>\n",
              "      <th>0</th>\n",
              "      <td>10013.0</td>\n",
              "      <td>1840.0</td>\n",
              "      <td>1909.0</td>\n",
              "      <td>2800000</td>\n",
              "      <td>2019-01-03</td>\n",
              "    </tr>\n",
              "    <tr>\n",
              "      <th>1</th>\n",
              "      <td>10004.0</td>\n",
              "      <td>1759.0</td>\n",
              "      <td>NaN</td>\n",
              "      <td>2650000</td>\n",
              "      <td>2019-01-07</td>\n",
              "    </tr>\n",
              "    <tr>\n",
              "      <th>2</th>\n",
              "      <td>10004.0</td>\n",
              "      <td>1190.0</td>\n",
              "      <td>2005.0</td>\n",
              "      <td>1005000</td>\n",
              "      <td>2019-01-09</td>\n",
              "    </tr>\n",
              "    <tr>\n",
              "      <th>3</th>\n",
              "      <td>NaN</td>\n",
              "      <td>1088.0</td>\n",
              "      <td>2006.0</td>\n",
              "      <td>1678000</td>\n",
              "      <td>2019-01-10</td>\n",
              "    </tr>\n",
              "    <tr>\n",
              "      <th>4</th>\n",
              "      <td>10280.0</td>\n",
              "      <td>873.0</td>\n",
              "      <td>NaN</td>\n",
              "      <td>1380000</td>\n",
              "      <td>2019-01-11</td>\n",
              "    </tr>\n",
              "  </tbody>\n",
              "</table>\n",
              "</div>"
            ],
            "text/plain": [
              "   ZIP_CODE  GROSS_SQUARE_FEET  YEAR_BUILT  SALE_PRICE  SALE_DATE\n",
              "0   10013.0             1840.0      1909.0     2800000 2019-01-03\n",
              "1   10004.0             1759.0         NaN     2650000 2019-01-07\n",
              "2   10004.0             1190.0      2005.0     1005000 2019-01-09\n",
              "3       NaN             1088.0      2006.0     1678000 2019-01-10\n",
              "4   10280.0              873.0         NaN     1380000 2019-01-11"
            ]
          },
          "metadata": {
            "tags": []
          },
          "execution_count": 25
        }
      ]
    },
    {
      "cell_type": "code",
      "metadata": {
        "colab": {
          "base_uri": "https://localhost:8080/",
          "height": 282
        },
        "id": "3N9ktYNvfqNh",
        "outputId": "dcb4e6d7-a463-46eb-8496-9e43557bc66f"
      },
      "source": [
        "df['GROSS_SQUARE_FEET'].hist(bins=45)"
      ],
      "execution_count": null,
      "outputs": [
        {
          "output_type": "execute_result",
          "data": {
            "text/plain": [
              "<matplotlib.axes._subplots.AxesSubplot at 0x7f6c8b0bad50>"
            ]
          },
          "metadata": {
            "tags": []
          },
          "execution_count": 28
        },
        {
          "output_type": "display_data",
          "data": {
            "image/png": "[encoded data removed]",
            "text/plain": [
              "<Figure size 432x288 with 1 Axes>"
            ]
          },
          "metadata": {
            "tags": [],
            "needs_background": "light"
          }
        }
      ]
    },
    {
      "cell_type": "code",
      "metadata": {
        "colab": {
          "base_uri": "https://localhost:8080/",
          "height": 282
        },
        "id": "2tEOwJXEgD0D",
        "outputId": "2444d078-9cd1-4fd5-a16e-565cff0a6136"
      },
      "source": [
        "df['YEAR_BUILT'].hist(bins=90)\n"
      ],
      "execution_count": null,
      "outputs": [
        {
          "output_type": "execute_result",
          "data": {
            "text/plain": [
              "<matplotlib.axes._subplots.AxesSubplot at 0x7f6c8aa8a810>"
            ]
          },
          "metadata": {
            "tags": []
          },
          "execution_count": 30
        },
        {
          "output_type": "display_data",
          "data": {
            "image/png": "[encoded data removed]",
            "text/plain": [
              "<Figure size 432x288 with 1 Axes>"
            ]
          },
          "metadata": {
            "tags": [],
            "needs_background": "light"
          }
        }
      ]
    },
    {
      "cell_type": "markdown",
      "metadata": {
        "id": "GgRcyfQMXhzJ"
      },
      "source": [
        "# II. Split Data\n",
        "\n",
        "Split our dataset into a **feature matrix `X`** and a **target vector `y`**."
      ]
    },
    {
      "cell_type": "code",
      "metadata": {
        "id": "dusfK5DEnHPz"
      },
      "source": [
        "# Use a double square brackets to create a 2D matrix and a single square bracket when you need a vector.\n",
        "X = df[['GROSS_SQUARE_FEET']]\n",
        "#target vector\n",
        "y = df['SALE_PRICE']\n"
      ],
      "execution_count": null,
      "outputs": []
    },
    {
      "cell_type": "code",
      "metadata": {
        "colab": {
          "base_uri": "https://localhost:8080/"
        },
        "id": "GmaCkZLsncvL",
        "outputId": "88c8e9d5-94c1-4238-dfc0-45cd88d18c7e"
      },
      "source": [
        "X.shape"
      ],
      "execution_count": null,
      "outputs": [
        {
          "output_type": "execute_result",
          "data": {
            "text/plain": [
              "(90, 2)"
            ]
          },
          "metadata": {
            "tags": []
          },
          "execution_count": 38
        }
      ]
    },
    {
      "cell_type": "code",
      "metadata": {
        "colab": {
          "base_uri": "https://localhost:8080/"
        },
        "id": "hufmuJmGoPxV",
        "outputId": "7418e67e-894d-4dc3-9590-ee15db9ab201"
      },
      "source": [
        "y.shape"
      ],
      "execution_count": null,
      "outputs": [
        {
          "output_type": "execute_result",
          "data": {
            "text/plain": [
              "(90,)"
            ]
          },
          "metadata": {
            "tags": []
          },
          "execution_count": 40
        }
      ]
    },
    {
      "cell_type": "markdown",
      "metadata": {
        "id": "CuwsiXRlYsjG"
      },
      "source": [
        "# III. Establish Baseline\n",
        "\n",
        "If you had a *naïve model* that could only predict one value, how well would you model perform?"
      ]
    },
    {
      "cell_type": "code",
      "metadata": {
        "colab": {
          "base_uri": "https://localhost:8080/"
        },
        "id": "zjDk6v43oamA",
        "outputId": "a5d07676-45a9-4e8f-b0f7-cab5799e1726"
      },
      "source": [
        "y.describe()"
      ],
      "execution_count": null,
      "outputs": [
        {
          "output_type": "execute_result",
          "data": {
            "text/plain": [
              "count    9.000000e+01\n",
              "mean     3.928736e+06\n",
              "std      3.621996e+06\n",
              "min      4.247700e+05\n",
              "25%      1.156552e+06\n",
              "50%      2.750000e+06\n",
              "75%      5.087500e+06\n",
              "max      1.500000e+07\n",
              "Name: SALE_PRICE, dtype: float64"
            ]
          },
          "metadata": {
            "tags": []
          },
          "execution_count": 41
        }
      ]
    },
    {
      "cell_type": "code",
      "metadata": {
        "colab": {
          "base_uri": "https://localhost:8080/"
        },
        "id": "ASaeKSTrpEuR",
        "outputId": "b83cfd01-88da-478d-8542-8121dbb40862"
      },
      "source": [
        "y.mean()"
      ],
      "execution_count": null,
      "outputs": [
        {
          "output_type": "execute_result",
          "data": {
            "text/plain": [
              "3928736.3666666667"
            ]
          },
          "metadata": {
            "tags": []
          },
          "execution_count": 42
        }
      ]
    },
    {
      "cell_type": "code",
      "metadata": {
        "id": "f1HOUiHrqM0H"
      },
      "source": [
        "y_baseline = [y.mean()]*len(y)"
      ],
      "execution_count": null,
      "outputs": []
    },
    {
      "cell_type": "code",
      "metadata": {
        "colab": {
          "base_uri": "https://localhost:8080/",
          "height": 307
        },
        "id": "3E5sMPAIpMrY",
        "outputId": "508a43dc-2c7c-4cdd-f051-d4ac7856d6cd"
      },
      "source": [
        "plt.scatter(X,y)\n",
        "plt.plot(X,y_baseline,label='Baseline',color='red')\n",
        "plt.xlabel('Gross sq ft')\n",
        "plt.ylabel('Sale Price')\n",
        "plt.legend()"
      ],
      "execution_count": null,
      "outputs": [
        {
          "output_type": "execute_result",
          "data": {
            "text/plain": [
              "<matplotlib.legend.Legend at 0x7f6c8a53b690>"
            ]
          },
          "metadata": {
            "tags": []
          },
          "execution_count": 49
        },
        {
          "output_type": "display_data",
          "data": {
            "image/png": "[encoded data removed]",
            "text/plain": [
              "<Figure size 432x288 with 1 Axes>"
            ]
          },
          "metadata": {
            "tags": [],
            "needs_background": "light"
          }
        }
      ]
    },
    {
      "cell_type": "markdown",
      "metadata": {
        "id": "3bFjzSkUdl21"
      },
      "source": [
        "# IV. Build Model"
      ]
    },
    {
      "cell_type": "code",
      "metadata": {
        "colab": {
          "base_uri": "https://localhost:8080/"
        },
        "id": "WFDStQ7DsV_h",
        "outputId": "4b4a23c2-a984-4641-a0ec-68414fc77232"
      },
      "source": [
        "#Step1: Import library to use our machine learning algorithm\n",
        "from sklearn.linear_model import LinearRegression\n",
        "\n",
        "#Step2: \"Instantiate\" your model and set parameters.\n",
        "model_lr = LinearRegression()\n",
        "\n",
        "#Step3: Fit your model for the given data (Training)\n",
        "model_lr.fit(X,y)"
      ],
      "execution_count": null,
      "outputs": [
        {
          "output_type": "execute_result",
          "data": {
            "text/plain": [
              "LinearRegression(copy_X=True, fit_intercept=True, n_jobs=None, normalize=False)"
            ]
          },
          "metadata": {
            "tags": []
          },
          "execution_count": 54
        }
      ]
    },
    {
      "cell_type": "code",
      "metadata": {
        "id": "TArH0MD0tZ9k"
      },
      "source": [
        "#dir(model_lr)"
      ],
      "execution_count": null,
      "outputs": []
    },
    {
      "cell_type": "code",
      "metadata": {
        "colab": {
          "base_uri": "https://localhost:8080/"
        },
        "id": "FMMpL1Z2tusD",
        "outputId": "d6ff6cc8-af86-4309-d1e0-5d6f7ecc6c9f"
      },
      "source": [
        "model_slope = model_lr.coef_[0]\n",
        "print(model_slope)"
      ],
      "execution_count": null,
      "outputs": [
        {
          "output_type": "stream",
          "text": [
            "3076.4476554190023\n"
          ],
          "name": "stdout"
        }
      ]
    },
    {
      "cell_type": "code",
      "metadata": {
        "colab": {
          "base_uri": "https://localhost:8080/"
        },
        "id": "7NqgDxg4uET5",
        "outputId": "d18380f4-9ff5-46a2-a99c-a1f633a780fd"
      },
      "source": [
        "model_intercept = model_lr.intercept_\n",
        "print(model_intercept)"
      ],
      "execution_count": null,
      "outputs": [
        {
          "output_type": "stream",
          "text": [
            "-1505364.0408585514\n"
          ],
          "name": "stdout"
        }
      ]
    },
    {
      "cell_type": "markdown",
      "metadata": {
        "id": "Lo3CypnUfIwc"
      },
      "source": [
        "# V. Check Metrics\n",
        "\n"
      ]
    },
    {
      "cell_type": "markdown",
      "metadata": {
        "id": "YOu_MKTiu0sw"
      },
      "source": [
        "![MAE](https://www.statisticshowto.com/wp-content/uploads/2016/10/MAE.png)"
      ]
    },
    {
      "cell_type": "code",
      "metadata": {
        "colab": {
          "base_uri": "https://localhost:8080/"
        },
        "id": "Ov7F6bSYvUxn",
        "outputId": "98a4bce1-3cde-401b-96d2-9ed89b56fd8d"
      },
      "source": [
        "from sklearn.metrics import mean_absolute_error\n",
        "print(\"BASELINE MAE:\", mean_absolute_error(y,y_baseline))"
      ],
      "execution_count": null,
      "outputs": [
        {
          "output_type": "stream",
          "text": [
            "BASELINE MAE: 2783380.1977777784\n"
          ],
          "name": "stdout"
        }
      ]
    },
    {
      "cell_type": "code",
      "metadata": {
        "id": "_vUxHC63vsrc"
      },
      "source": [
        "y_pred_lr = model_lr.predict(X)"
      ],
      "execution_count": null,
      "outputs": []
    },
    {
      "cell_type": "code",
      "metadata": {
        "colab": {
          "base_uri": "https://localhost:8080/"
        },
        "id": "ic3qcI-2v0tw",
        "outputId": "84e13b43-5a0a-457d-81d8-ca37b2d6a69d"
      },
      "source": [
        "y_pred_lr[:20]"
      ],
      "execution_count": null,
      "outputs": [
        {
          "output_type": "execute_result",
          "data": {
            "text/plain": [
              "array([ 4155299.64511241,  3906107.38502347,  2155608.66909006,\n",
              "        1841811.00823732,  1180374.76232224,  5505860.16584135,\n",
              "         632767.07965766,  2952408.61184358,  5505860.16584135,\n",
              "        8422332.54317857,  5413566.73617879, 12840111.37636026,\n",
              "       13833803.96906059,  5988862.44774214,  4401415.45754593,\n",
              "        -176338.65371754,  4841347.47227085,  8363880.03772561,\n",
              "        1164992.52404514,  5505860.16584135])"
            ]
          },
          "metadata": {
            "tags": []
          },
          "execution_count": 66
        }
      ]
    },
    {
      "cell_type": "code",
      "metadata": {
        "colab": {
          "base_uri": "https://localhost:8080/"
        },
        "id": "_9X3FNzsv0mI",
        "outputId": "8493bb2a-86c1-43ea-e39e-b47ffc1d073b"
      },
      "source": [
        "from sklearn.metrics import mean_absolute_error\n",
        "print(\"BASELINE MAE:\", mean_absolute_error(y,y_pred_lr))"
      ],
      "execution_count": null,
      "outputs": [
        {
          "output_type": "stream",
          "text": [
            "BASELINE MAE: 1176817.9930150746\n"
          ],
          "name": "stdout"
        }
      ]
    },
    {
      "cell_type": "markdown",
      "metadata": {
        "id": "w5D3570TZ1oe"
      },
      "source": [
        "### Check the baseline metric"
      ]
    },
    {
      "cell_type": "markdown",
      "metadata": {
        "id": "jGYUL1mufdS-"
      },
      "source": [
        "# VI. Communicate Results\n",
        "\n",
        "Plot model"
      ]
    },
    {
      "cell_type": "code",
      "metadata": {
        "colab": {
          "base_uri": "https://localhost:8080/",
          "height": 307
        },
        "id": "q15rB884wMN_",
        "outputId": "07de75b1-a102-4a96-fe87-baef6c385dfa"
      },
      "source": [
        "plt.scatter(X,y)\n",
        "plt.plot(X,y_baseline,label='Baseline',color='red')\n",
        "plt.plot(X,y_pred_lr,label='Linear Regression',color='yellow')\n",
        "plt.xlabel('GRoss sq ft')\n",
        "plt.ylabel('SALE price')\n",
        "plt.legend()"
      ],
      "execution_count": null,
      "outputs": [
        {
          "output_type": "execute_result",
          "data": {
            "text/plain": [
              "<matplotlib.legend.Legend at 0x7f6c8a49ea10>"
            ]
          },
          "metadata": {
            "tags": []
          },
          "execution_count": 70
        },
        {
          "output_type": "display_data",
          "data": {
            "image/png": "[encoded data removed]",
            "text/plain": [
              "<Figure size 432x288 with 1 Axes>"
            ]
          },
          "metadata": {
            "tags": [],
            "needs_background": "light"
          }
        }
      ]
    },
    {
      "cell_type": "markdown",
      "metadata": {
        "id": "5036hzreQkxd"
      },
      "source": [
        "So what is our equation?\n",
        "$$\\hat{y}=-1505364+3076*SQFT$$"
      ]
    }
  ]
}